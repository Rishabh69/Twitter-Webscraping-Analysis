{
 "cells": [
  {
   "cell_type": "code",
   "execution_count": 8,
   "metadata": {
    "collapsed": true
   },
   "outputs": [
    {
     "ename": "ModuleNotFoundError",
     "evalue": "No module named 'tweepy'",
     "output_type": "error",
     "traceback": [
      "\u001b[1;31m---------------------------------------------------------------------------\u001b[0m",
      "\u001b[1;31mModuleNotFoundError\u001b[0m                       Traceback (most recent call last)",
      "\u001b[1;32m<ipython-input-8-9d8dd8a91c0e>\u001b[0m in \u001b[0;36m<module>\u001b[1;34m()\u001b[0m\n\u001b[1;32m----> 1\u001b[1;33m \u001b[1;32mimport\u001b[0m \u001b[0mtweepy\u001b[0m\u001b[1;33m\u001b[0m\u001b[0m\n\u001b[0m",
      "\u001b[1;31mModuleNotFoundError\u001b[0m: No module named 'tweepy'"
     ]
    }
   ],
   "source": [
    "import tweepy"
   ]
  },
  {
   "cell_type": "code",
   "execution_count": 9,
   "metadata": {
    "collapsed": true
   },
   "outputs": [
    {
     "ename": "ModuleNotFoundError",
     "evalue": "No module named 'tweepy'",
     "output_type": "error",
     "traceback": [
      "\u001b[1;31m---------------------------------------------------------------------------\u001b[0m",
      "\u001b[1;31mModuleNotFoundError\u001b[0m                       Traceback (most recent call last)",
      "\u001b[1;32m<ipython-input-9-29362bff9171>\u001b[0m in \u001b[0;36m<module>\u001b[1;34m()\u001b[0m\n\u001b[1;32m----> 1\u001b[1;33m \u001b[1;32mimport\u001b[0m \u001b[0mtweepy\u001b[0m\u001b[1;33m\u001b[0m\u001b[0m\n\u001b[0m\u001b[0;32m      2\u001b[0m \u001b[1;32mfrom\u001b[0m \u001b[0mtweepy\u001b[0m \u001b[1;32mimport\u001b[0m \u001b[0mStream\u001b[0m\u001b[1;33m\u001b[0m\u001b[0m\n\u001b[0;32m      3\u001b[0m \u001b[1;32mfrom\u001b[0m \u001b[0mtweepy\u001b[0m \u001b[1;32mimport\u001b[0m \u001b[0mOAuthHandler\u001b[0m\u001b[1;33m\u001b[0m\u001b[0m\n\u001b[0;32m      4\u001b[0m \u001b[1;32mfrom\u001b[0m \u001b[0mtweepy\u001b[0m\u001b[1;33m.\u001b[0m\u001b[0mstreaming\u001b[0m \u001b[1;32mimport\u001b[0m \u001b[0mStreamListener\u001b[0m\u001b[1;33m\u001b[0m\u001b[0m\n\u001b[0;32m      5\u001b[0m \u001b[1;32mimport\u001b[0m \u001b[0mjson\u001b[0m\u001b[1;33m\u001b[0m\u001b[0m\n",
      "\u001b[1;31mModuleNotFoundError\u001b[0m: No module named 'tweepy'"
     ]
    }
   ],
   "source": [
    "import tweepy      \n",
    "from tweepy import Stream\n",
    "from tweepy import OAuthHandler\n",
    "from tweepy.streaming import StreamListener\n",
    "import json\n",
    "import io\n",
    "import csv\n",
    "for i in range(0,10000): #NOW THE CODE WILL WORK FOR 10,000 ERRORS\n",
    "    try:\n",
    "            \n",
    "        print(i)\n",
    "    \n",
    "        ckey='2KruB5mLeSTM1itZebQn4xj8D'\n",
    "        csecret='HJSjJSrv2AXn2yntuCTAI9SH8IbyBia5jogY8MW3Ae7YeHbQuJ'\n",
    "        atoken='968052130870304768-jqAeip8CnVQLHKEhNqSugjyBoqem5jx'\n",
    "        asecret='wfOWpiKDsFB30r2w9GN6T2ekrGTKSnFWG4iti8UqYSHBB'\n",
    "                \n",
    "        \n",
    "        class listener(StreamListener):\n",
    "            def on_data(self, data):\n",
    "                all_data = (json.loads(data))\n",
    "#                print(all_data)\n",
    "              \n",
    "                date = all_data[\"created_at\"]\n",
    "                print(date)\n",
    "                \n",
    "                text=all_data[\"text\"]\n",
    "                print(text)\n",
    "                \n",
    "                csvfile = open('Tweet_Scraping.csv','a')\n",
    "                csvwriter = csv.writer(csvfile)\n",
    "                \n",
    "                csvwriter.writerow([unicode(date).encode(\"utf-8\"),unicode(text).encode(\"utf-8\")])\n",
    "\n",
    "                    \n",
    "                \t# write out the user, the tweet and their follower count into a file\n",
    "                \t# the unicode bits are required to write non ASCII language bits into the file\n",
    "                \t# time.sleep(1)\n",
    "\n",
    "         \n",
    "                return True\n",
    "              \n",
    "            def on_error(self, status):\n",
    "                print(status)\n",
    "       \n",
    "        \n",
    "        auth = OAuthHandler(ckey, csecret)\n",
    "        auth.set_access_token(atoken, asecret)\n",
    "        \n",
    "        twitterStream = Stream(auth, listener())\n",
    "        twitterStream.filter(track=['Politics'])\n",
    "        \n",
    "        GEOBOX_USA = [-125.8092224598,26.0663633067,-61.2975037098,49.2317373348]\n",
    "        #GEOBOX_SING=[94.3958500891,-6.4862070458,107.2376581163,6.2016728196]\n",
    "        #GEOBOX_WORLD = [-180,-90,180,90]\n",
    "        \n",
    "        twitterStream.filter(languages=[\"en\"],locations=GEOBOX_USA)\n",
    "    \n",
    "    except Exception as e:\n",
    "        print(str(e))\n"
   ]
  }
 ],
 "metadata": {
  "kernelspec": {
   "display_name": "Python 3",
   "language": "python",
   "name": "python3"
  },
  "language_info": {
   "codemirror_mode": {
    "name": "ipython",
    "version": 3
   },
   "file_extension": ".py",
   "mimetype": "text/x-python",
   "name": "python",
   "nbconvert_exporter": "python",
   "pygments_lexer": "ipython3",
   "version": "3.6.3"
  }
 },
 "nbformat": 4,
 "nbformat_minor": 2
}
